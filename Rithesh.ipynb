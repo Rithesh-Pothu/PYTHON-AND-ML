{
 "cells": [
  {
   "cell_type": "code",
   "execution_count": 1,
   "id": "61dbae7a",
   "metadata": {},
   "outputs": [],
   "source": [
    "import pandas as pd\n",
    "import numpy as np\n",
    "import matplotlib.pyplot as plt\n",
    "from sklearn import datasets"
   ]
  },
  {
   "cell_type": "code",
   "execution_count": 2,
   "id": "5d9a64a0",
   "metadata": {},
   "outputs": [],
   "source": [
    "data_ = datasets.make_moons(200)"
   ]
  },
  {
   "cell_type": "code",
   "execution_count": 3,
   "id": "c60d25d4",
   "metadata": {},
   "outputs": [
    {
     "data": {
      "text/plain": [
       "(array([[ 1.80527026e+00, -9.29079291e-02],\n",
       "        [ 9.97986676e-01,  6.34239197e-02],\n",
       "        [ 9.95471923e-01,  9.50560433e-02],\n",
       "        [-2.96920375e-01,  9.54902241e-01],\n",
       "        [ 4.72271075e-01,  8.81453363e-01],\n",
       "        [ 8.41253533e-01,  5.40640817e-01],\n",
       "        [ 4.52807743e-03,  4.04943957e-01],\n",
       "        [ 9.59492974e-01,  2.81732557e-01],\n",
       "        [ 7.45264450e-01,  6.66769001e-01],\n",
       "        [ 5.00000000e-01, -3.66025404e-01],\n",
       "        [ 1.99547192e+00,  4.04943957e-01],\n",
       "        [ 4.19943090e-01, -3.14575952e-01],\n",
       "        [-5.27225468e-01,  8.49725430e-01],\n",
       "        [ 5.27225468e-01,  8.49725430e-01],\n",
       "        [ 6.78509412e-01,  7.34591709e-01],\n",
       "        [ 1.20480667e+00, -4.78802446e-01],\n",
       "        [-7.92499569e-02,  9.96854776e-01],\n",
       "        [ 1.76604444e+00, -1.42787610e-01],\n",
       "        [ 8.73849377e-01,  4.86196736e-01],\n",
       "        [ 1.98192870e+00,  3.10748756e-01],\n",
       "        [ 5.00000000e-01,  8.66025404e-01],\n",
       "        [-3.86345126e-01,  9.22354294e-01],\n",
       "        [-7.45264450e-01,  6.66769001e-01],\n",
       "        [ 1.96794870e+00,  2.48852013e-01],\n",
       "        [ 2.01332353e-03,  4.36576080e-01],\n",
       "        [ 1.72373404e+00, -1.90079011e-01],\n",
       "        [ 1.74526445e+00, -1.66769001e-01],\n",
       "        [ 3.69447333e-01, -2.76146464e-01],\n",
       "        [ 1.26647381e+00, -4.63842159e-01],\n",
       "        [ 1.95007112e+00,  1.87966554e-01],\n",
       "        [ 1.38634513e+00, -4.22354294e-01],\n",
       "        [ 7.95193332e-01, -4.78802446e-01],\n",
       "        [ 7.92499569e-02,  9.96854776e-01],\n",
       "        [ 1.98743889e+00,  3.41998604e-01],\n",
       "        [ 2.54735550e-01, -1.66769001e-01],\n",
       "        [-4.15415013e-01,  9.09631995e-01],\n",
       "        [ 3.20512986e-02,  2.48852013e-01],\n",
       "        [ 1.90292654e+00,  7.02050879e-02],\n",
       "        [ 1.55392006e+00, -3.32569855e-01],\n",
       "        [ 4.44066613e-01,  8.95993774e-01],\n",
       "        [-2.04806668e-01,  9.78802446e-01],\n",
       "        [-7.66044443e-01,  6.42787610e-01],\n",
       "        [-9.99496542e-01,  3.17279335e-02],\n",
       "        [ 2.98525112e-01, -2.12694171e-01],\n",
       "        [ 9.75429787e-01,  2.20310533e-01],\n",
       "        [-4.72271075e-01,  8.81453363e-01],\n",
       "        [ 8.05270258e-01,  5.92907929e-01],\n",
       "        [ 7.66044443e-01,  6.42787610e-01],\n",
       "        [ 1.00000000e+00,  0.00000000e+00],\n",
       "        [-7.86053095e-01,  6.18158986e-01],\n",
       "        [-1.42314838e-01,  9.89821442e-01],\n",
       "        [ 2.35758936e-01,  9.71811568e-01],\n",
       "        [ 6.03073792e-02,  1.57979857e-01],\n",
       "        [-9.28367933e-01,  3.71662456e-01],\n",
       "        [ 1.10838200e-01,  9.93838464e-01],\n",
       "        [ 6.13654874e-01, -4.22354294e-01],\n",
       "        [ 4.05070264e-02,  2.18267443e-01],\n",
       "        [-3.56886222e-01,  9.34147860e-01],\n",
       "        [ 7.33526186e-01, -4.63842159e-01],\n",
       "        [ 2.96920375e-01,  9.54902241e-01],\n",
       "        [-9.59492974e-01,  2.81732557e-01],\n",
       "        [ 1.99949654e+00,  4.68272067e-01],\n",
       "        [-1.00000000e+00,  1.22464680e-16],\n",
       "        [-2.35758936e-01,  9.71811568e-01],\n",
       "        [ 1.65486073e+00, -2.55749574e-01],\n",
       "        [ 1.85798341e+00, -1.36773916e-02],\n",
       "        [ 1.91610846e+00,  9.90694646e-02],\n",
       "        [ 1.17364818e+00, -4.84807753e-01],\n",
       "        [ 1.97542979e+00,  2.79689467e-01],\n",
       "        [ 3.94390313e-01, -2.95761841e-01],\n",
       "        [-1.73648178e-01,  9.84807753e-01],\n",
       "        [ 2.00000000e+00,  5.00000000e-01],\n",
       "        [ 1.80713027e-02,  3.10748756e-01],\n",
       "        [ 1.35688622e+00, -4.34147860e-01],\n",
       "        [ 1.99798668e+00,  4.36576080e-01],\n",
       "        [-9.39692621e-01,  3.42020143e-01],\n",
       "        [ 8.88835449e-01,  4.58226522e-01],\n",
       "        [ 2.76265962e-01, -1.90079011e-01],\n",
       "        [ 9.84134036e-01, -4.99874128e-01],\n",
       "        [ 9.99496542e-01,  3.17279335e-02],\n",
       "        [ 1.07924996e+00, -4.96854776e-01],\n",
       "        [ 9.52418084e-01, -4.98867339e-01],\n",
       "        [ 9.39692621e-01,  3.42020143e-01],\n",
       "        [-7.01474888e-01,  7.12694171e-01],\n",
       "        [ 8.04518717e-03,  3.73407546e-01],\n",
       "        [ 1.29692038e+00, -4.54902241e-01],\n",
       "        [ 1.25611113e-02,  3.41998604e-01],\n",
       "        [-8.23676581e-01,  5.67059864e-01],\n",
       "        [ 9.16108457e-01,  4.00930535e-01],\n",
       "        [-8.41253533e-01,  5.40640817e-01],\n",
       "        [ 1.50000000e+00, -3.66025404e-01],\n",
       "        [ 4.99288823e-02,  1.87966554e-01],\n",
       "        [-9.87438889e-01,  1.58001396e-01],\n",
       "        [-9.16108457e-01,  4.00930535e-01],\n",
       "        [ 7.86053095e-01,  6.18158986e-01],\n",
       "        [ 7.64241064e-01, -4.71811568e-01],\n",
       "        [ 1.52722547e+00, -3.49725430e-01],\n",
       "        [ 7.16320670e-02,  1.28337544e-01],\n",
       "        [ 1.63055267e+00, -2.76146464e-01],\n",
       "        [ 9.81928697e-01,  1.89251244e-01],\n",
       "        [ 1.67850941e+00, -2.34591709e-01],\n",
       "        [-9.81928697e-01,  1.89251244e-01],\n",
       "        [ 2.45702131e-02,  2.79689467e-01],\n",
       "        [ 5.27728925e-01, -3.81453363e-01],\n",
       "        [ 9.70734617e-02,  7.02050879e-02],\n",
       "        [ 6.30552667e-01,  7.76146464e-01],\n",
       "        [ 5.53920064e-01,  8.32569855e-01],\n",
       "        [ 2.13946905e-01, -1.18158986e-01],\n",
       "        [ 1.87384938e+00,  1.38032639e-02],\n",
       "        [ 5.03457617e-04,  4.68272067e-01],\n",
       "        [-9.75429787e-01,  2.20310533e-01],\n",
       "        [ 1.58005691e+00, -3.14575952e-01],\n",
       "        [ 3.27067963e-01,  9.45000819e-01],\n",
       "        [ 1.14231484e+00, -4.89821442e-01],\n",
       "        [ 1.60560969e+00, -2.95761841e-01],\n",
       "        [-1.58659638e-02,  9.99874128e-01],\n",
       "        [ 3.45139266e-01, -2.55749574e-01],\n",
       "        [-9.97986676e-01,  6.34239197e-02],\n",
       "        [ 4.72774532e-01, -3.49725430e-01],\n",
       "        [-7.23734038e-01,  6.90079011e-01],\n",
       "        [-9.91954813e-01,  1.26592454e-01],\n",
       "        [ 9.50071118e-01,  3.12033446e-01],\n",
       "        [ 2.33955557e-01, -1.42787610e-01],\n",
       "        [ 4.15415013e-01,  9.09631995e-01],\n",
       "        [ 7.03079625e-01, -4.54902241e-01],\n",
       "        [-5.00000000e-01,  8.66025404e-01],\n",
       "        [-4.75819158e-02,  9.98867339e-01],\n",
       "        [ 1.41541501e+00, -4.09631995e-01],\n",
       "        [-6.30552667e-01,  7.76146464e-01],\n",
       "        [ 1.26150623e-01,  1.38032639e-02],\n",
       "        [ 6.05609687e-01,  7.95761841e-01],\n",
       "        [ 1.58746467e-01, -4.06408175e-02],\n",
       "        [ 1.42314838e-01,  9.89821442e-01],\n",
       "        [ 9.87438889e-01,  1.58001396e-01],\n",
       "        [ 1.92836793e+00,  1.28337544e-01],\n",
       "        [ 8.57685162e-01, -4.89821442e-01],\n",
       "        [ 4.75819158e-02,  9.98867339e-01],\n",
       "        [-4.44066613e-01,  8.95993774e-01],\n",
       "        [ 3.86345126e-01,  9.22354294e-01],\n",
       "        [-9.95471923e-01,  9.50560433e-02],\n",
       "        [-1.10838200e-01,  9.93838464e-01],\n",
       "        [ 9.67948701e-01,  2.51147987e-01],\n",
       "        [-6.54860734e-01,  7.55749574e-01],\n",
       "        [ 1.32706796e+00, -4.45000819e-01],\n",
       "        [ 1.76323419e-01, -6.70598639e-02],\n",
       "        [-8.73849377e-01,  4.86196736e-01],\n",
       "        [ 3.21490588e-01, -2.34591709e-01],\n",
       "        [-8.05270258e-01,  5.92907929e-01],\n",
       "        [ 8.26351822e-01, -4.84807753e-01],\n",
       "        [ 1.94729742e-01, -9.29079291e-02],\n",
       "        [ 8.89161800e-01, -4.93838464e-01],\n",
       "        [ 9.91954813e-01,  1.26592454e-01],\n",
       "        [ 2.04806668e-01,  9.78802446e-01],\n",
       "        [ 1.82367658e+00, -6.70598639e-02],\n",
       "        [ 1.42016587e-01, -1.36773916e-02],\n",
       "        [ 1.88883545e+00,  4.17734783e-02],\n",
       "        [-5.80056910e-01,  8.14575952e-01],\n",
       "        [-6.78509412e-01,  7.34591709e-01],\n",
       "        [-8.88835449e-01,  4.58226522e-01],\n",
       "        [ 6.54860734e-01,  7.55749574e-01],\n",
       "        [-9.67948701e-01,  2.51147987e-01],\n",
       "        [ 1.01586596e+00, -4.99874128e-01],\n",
       "        [-9.50071118e-01,  3.12033446e-01],\n",
       "        [ 8.38915426e-02,  9.90694646e-02],\n",
       "        [ 1.11083820e+00, -4.93838464e-01],\n",
       "        [ 2.66473814e-01,  9.63842159e-01],\n",
       "        [ 9.02926538e-01,  4.29794912e-01],\n",
       "        [ 9.28367933e-01,  3.71662456e-01],\n",
       "        [ 3.56886222e-01,  9.34147860e-01],\n",
       "        [ 5.80056910e-01,  8.14575952e-01],\n",
       "        [ 7.23734038e-01,  6.90079011e-01],\n",
       "        [ 1.95949297e+00,  2.18267443e-01],\n",
       "        [ 1.99195481e+00,  3.73407546e-01],\n",
       "        [-2.66473814e-01,  9.63842159e-01],\n",
       "        [ 1.11164551e-01,  4.17734783e-02],\n",
       "        [ 5.84584987e-01, -4.09631995e-01],\n",
       "        [-6.05609687e-01,  7.95761841e-01],\n",
       "        [ 1.78605309e+00, -1.18158986e-01],\n",
       "        [ 8.23676581e-01,  5.67059864e-01],\n",
       "        [ 1.04758192e+00, -4.98867339e-01],\n",
       "        [ 5.55933387e-01, -3.95993774e-01],\n",
       "        [ 1.58659638e-02,  9.99874128e-01],\n",
       "        [ 1.47227107e+00, -3.81453363e-01],\n",
       "        [ 1.70147489e+00, -2.12694171e-01],\n",
       "        [ 6.72932037e-01, -4.45000819e-01],\n",
       "        [-8.57983413e-01,  5.13677392e-01],\n",
       "        [ 6.43113778e-01, -4.34147860e-01],\n",
       "        [ 1.23575894e+00, -4.71811568e-01],\n",
       "        [ 9.20750043e-01, -4.96854776e-01],\n",
       "        [ 1.84125353e+00, -4.06408175e-02],\n",
       "        [-5.53920064e-01,  8.32569855e-01],\n",
       "        [ 7.01474888e-01,  7.12694171e-01],\n",
       "        [-3.27067963e-01,  9.45000819e-01],\n",
       "        [ 1.44406661e+00, -3.95993774e-01],\n",
       "        [ 1.93969262e+00,  1.57979857e-01],\n",
       "        [ 8.57983413e-01,  5.13677392e-01],\n",
       "        [ 4.46079936e-01, -3.32569855e-01],\n",
       "        [-9.02926538e-01,  4.29794912e-01],\n",
       "        [ 0.00000000e+00,  5.00000000e-01],\n",
       "        [ 1.73648178e-01,  9.84807753e-01]]),\n",
       " array([1, 0, 0, 0, 0, 0, 1, 0, 0, 1, 1, 1, 0, 0, 0, 1, 0, 1, 0, 1, 0, 0,\n",
       "        0, 1, 1, 1, 1, 1, 1, 1, 1, 1, 0, 1, 1, 0, 1, 1, 1, 0, 0, 0, 0, 1,\n",
       "        0, 0, 0, 0, 0, 0, 0, 0, 1, 0, 0, 1, 1, 0, 1, 0, 0, 1, 0, 0, 1, 1,\n",
       "        1, 1, 1, 1, 0, 1, 1, 1, 1, 0, 0, 1, 1, 0, 1, 1, 0, 0, 1, 1, 1, 0,\n",
       "        0, 0, 1, 1, 0, 0, 0, 1, 1, 1, 1, 0, 1, 0, 1, 1, 1, 0, 0, 1, 1, 1,\n",
       "        0, 1, 0, 1, 1, 0, 1, 0, 1, 0, 0, 0, 1, 0, 1, 0, 0, 1, 0, 1, 0, 1,\n",
       "        0, 0, 1, 1, 0, 0, 0, 0, 0, 0, 0, 1, 1, 0, 1, 0, 1, 1, 1, 0, 0, 1,\n",
       "        1, 1, 0, 0, 0, 0, 0, 1, 0, 1, 1, 0, 0, 0, 0, 0, 0, 1, 1, 0, 1, 1,\n",
       "        0, 1, 0, 1, 1, 0, 1, 1, 1, 0, 1, 1, 1, 1, 0, 0, 0, 1, 1, 0, 1, 0,\n",
       "        1, 0], dtype=int64))"
      ]
     },
     "execution_count": 3,
     "metadata": {},
     "output_type": "execute_result"
    }
   ],
   "source": [
    "data_"
   ]
  },
  {
   "cell_type": "code",
   "execution_count": 4,
   "id": "e56a6280",
   "metadata": {},
   "outputs": [],
   "source": [
    "inputData = pd.DataFrame(data = data_[0])"
   ]
  },
  {
   "cell_type": "code",
   "execution_count": 5,
   "id": "365cf5f1",
   "metadata": {
    "scrolled": false
   },
   "outputs": [
    {
     "data": {
      "text/html": [
       "<div>\n",
       "<style scoped>\n",
       "    .dataframe tbody tr th:only-of-type {\n",
       "        vertical-align: middle;\n",
       "    }\n",
       "\n",
       "    .dataframe tbody tr th {\n",
       "        vertical-align: top;\n",
       "    }\n",
       "\n",
       "    .dataframe thead th {\n",
       "        text-align: right;\n",
       "    }\n",
       "</style>\n",
       "<table border=\"1\" class=\"dataframe\">\n",
       "  <thead>\n",
       "    <tr style=\"text-align: right;\">\n",
       "      <th></th>\n",
       "      <th>0</th>\n",
       "      <th>1</th>\n",
       "    </tr>\n",
       "  </thead>\n",
       "  <tbody>\n",
       "    <tr>\n",
       "      <th>0</th>\n",
       "      <td>1.805270</td>\n",
       "      <td>-0.092908</td>\n",
       "    </tr>\n",
       "    <tr>\n",
       "      <th>1</th>\n",
       "      <td>0.997987</td>\n",
       "      <td>0.063424</td>\n",
       "    </tr>\n",
       "    <tr>\n",
       "      <th>2</th>\n",
       "      <td>0.995472</td>\n",
       "      <td>0.095056</td>\n",
       "    </tr>\n",
       "    <tr>\n",
       "      <th>3</th>\n",
       "      <td>-0.296920</td>\n",
       "      <td>0.954902</td>\n",
       "    </tr>\n",
       "    <tr>\n",
       "      <th>4</th>\n",
       "      <td>0.472271</td>\n",
       "      <td>0.881453</td>\n",
       "    </tr>\n",
       "  </tbody>\n",
       "</table>\n",
       "</div>"
      ],
      "text/plain": [
       "          0         1\n",
       "0  1.805270 -0.092908\n",
       "1  0.997987  0.063424\n",
       "2  0.995472  0.095056\n",
       "3 -0.296920  0.954902\n",
       "4  0.472271  0.881453"
      ]
     },
     "execution_count": 5,
     "metadata": {},
     "output_type": "execute_result"
    }
   ],
   "source": [
    "inputData.head()"
   ]
  },
  {
   "cell_type": "code",
   "execution_count": 6,
   "id": "425acef3",
   "metadata": {},
   "outputs": [
    {
     "data": {
      "text/html": [
       "<div>\n",
       "<style scoped>\n",
       "    .dataframe tbody tr th:only-of-type {\n",
       "        vertical-align: middle;\n",
       "    }\n",
       "\n",
       "    .dataframe tbody tr th {\n",
       "        vertical-align: top;\n",
       "    }\n",
       "\n",
       "    .dataframe thead th {\n",
       "        text-align: right;\n",
       "    }\n",
       "</style>\n",
       "<table border=\"1\" class=\"dataframe\">\n",
       "  <thead>\n",
       "    <tr style=\"text-align: right;\">\n",
       "      <th></th>\n",
       "      <th>0</th>\n",
       "    </tr>\n",
       "  </thead>\n",
       "  <tbody>\n",
       "    <tr>\n",
       "      <th>0</th>\n",
       "      <td>1</td>\n",
       "    </tr>\n",
       "    <tr>\n",
       "      <th>1</th>\n",
       "      <td>0</td>\n",
       "    </tr>\n",
       "    <tr>\n",
       "      <th>2</th>\n",
       "      <td>0</td>\n",
       "    </tr>\n",
       "    <tr>\n",
       "      <th>3</th>\n",
       "      <td>0</td>\n",
       "    </tr>\n",
       "    <tr>\n",
       "      <th>4</th>\n",
       "      <td>0</td>\n",
       "    </tr>\n",
       "  </tbody>\n",
       "</table>\n",
       "</div>"
      ],
      "text/plain": [
       "   0\n",
       "0  1\n",
       "1  0\n",
       "2  0\n",
       "3  0\n",
       "4  0"
      ]
     },
     "execution_count": 6,
     "metadata": {},
     "output_type": "execute_result"
    }
   ],
   "source": [
    "outputData = pd.DataFrame(data = data_[1])\n",
    "outputData.head()"
   ]
  },
  {
   "cell_type": "code",
   "execution_count": 8,
   "id": "148e74f0",
   "metadata": {
    "scrolled": false
   },
   "outputs": [
    {
     "data": {
      "text/plain": [
       "<matplotlib.collections.PathCollection at 0x23876d06fd0>"
      ]
     },
     "execution_count": 8,
     "metadata": {},
     "output_type": "execute_result"
    },
    {
     "data": {
      "image/png": "[encoded data removed]",
      "text/plain": [
       "<Figure size 432x288 with 1 Axes>"
      ]
     },
     "metadata": {
      "needs_background": "light"
     },
     "output_type": "display_data"
    }
   ],
   "source": [
    "plt.scatter(inputData[0], inputData[1], c = outputData, marker = 'o')"
   ]
  },
  {
   "cell_type": "code",
   "execution_count": 9,
   "id": "296b7fa7",
   "metadata": {},
   "outputs": [
    {
     "data": {
      "text/plain": [
       "KMeans(n_clusters=5)"
      ]
     },
     "execution_count": 9,
     "metadata": {},
     "output_type": "execute_result"
    }
   ],
   "source": [
    "from sklearn.cluster import KMeans\n",
    "model = KMeans(n_clusters=5)\n",
    "model.fit(inputData)"
   ]
  },
  {
   "cell_type": "code",
   "execution_count": 10,
   "id": "55ab2e00",
   "metadata": {},
   "outputs": [
    {
     "data": {
      "text/plain": [
       "array([1, 2, 2, 3, 0, 0, 4, 2, 0, 2, 1, 4, 3, 0, 0, 2, 0, 1, 0, 1, 0, 3,\n",
       "       3, 1, 4, 1, 1, 4, 2, 1, 2, 2, 0, 1, 4, 3, 4, 1, 1, 0, 0, 3, 3, 4,\n",
       "       2, 3, 0, 0, 2, 3, 0, 0, 4, 3, 0, 2, 4, 3, 2, 0, 3, 1, 3, 3, 1, 1,\n",
       "       1, 2, 1, 4, 0, 1, 4, 2, 1, 3, 0, 4, 2, 2, 2, 2, 2, 3, 4, 2, 4, 3,\n",
       "       0, 3, 2, 4, 3, 3, 0, 2, 1, 4, 1, 2, 1, 3, 4, 2, 4, 0, 0, 4, 1, 4,\n",
       "       3, 1, 0, 2, 1, 0, 4, 3, 4, 3, 3, 2, 4, 0, 2, 3, 0, 2, 3, 4, 0, 4,\n",
       "       0, 2, 1, 2, 0, 3, 0, 3, 0, 2, 3, 2, 4, 3, 4, 3, 2, 4, 2, 2, 0, 1,\n",
       "       4, 1, 3, 3, 3, 0, 3, 2, 3, 4, 2, 0, 0, 0, 0, 0, 0, 1, 1, 3, 4, 2,\n",
       "       3, 1, 0, 2, 2, 0, 2, 1, 2, 3, 2, 2, 2, 1, 3, 0, 3, 2, 1, 0, 4, 3,\n",
       "       4, 0])"
      ]
     },
     "execution_count": 10,
     "metadata": {},
     "output_type": "execute_result"
    }
   ],
   "source": [
    "model.labels_"
   ]
  },
  {
   "cell_type": "code",
   "execution_count": 11,
   "id": "034f49d4",
   "metadata": {},
   "outputs": [
    {
     "data": {
      "text/plain": [
       "0.4873412964355188"
      ]
     },
     "execution_count": 11,
     "metadata": {},
     "output_type": "execute_result"
    }
   ],
   "source": [
    "from sklearn import metrics\n",
    "metrics.silhouette_score(inputData,model.labels_)"
   ]
  },
  {
   "cell_type": "code",
   "execution_count": 13,
   "id": "be3bb46d",
   "metadata": {},
   "outputs": [
    {
     "data": {
      "text/plain": [
       "<matplotlib.collections.PathCollection at 0x23877f7a820>"
      ]
     },
     "execution_count": 13,
     "metadata": {},
     "output_type": "execute_result"
    },
    {
     "data": {
      "image/png": "[encoded data removed]",
      "text/plain": [
       "<Figure size 432x288 with 1 Axes>"
      ]
     },
     "metadata": {
      "needs_background": "light"
     },
     "output_type": "display_data"
    }
   ],
   "source": [
    "plt.scatter(inputData[0],inputData[1], c = model.labels_, marker = 'o')"
   ]
  },
  {
   "cell_type": "code",
   "execution_count": 18,
   "id": "78dc431c",
   "metadata": {},
   "outputs": [
    {
     "name": "stderr",
     "output_type": "stream",
     "text": [
      "R:\\Anaconda\\lib\\site-packages\\sklearn\\cluster\\_kmeans.py:881: UserWarning: KMeans is known to have a memory leak on Windows with MKL, when there are less chunks than available threads. You can avoid it by setting the environment variable OMP_NUM_THREADS=1.\n",
      "  warnings.warn(\n"
     ]
    }
   ],
   "source": [
    "cluster_range = range(1, 20)\n",
    "error_list = []\n",
    "\n",
    "for i in cluster_range:\n",
    "    model = KMeans(n_clusters=i)\n",
    "    model.fit(inputData)\n",
    "    res = model.inertia_\n",
    "    error_list.append(res)"
   ]
  },
  {
   "cell_type": "code",
   "execution_count": 19,
   "id": "a68498b3",
   "metadata": {},
   "outputs": [
    {
     "data": {
      "image/png": "[encoded data removed]",
      "text/plain": [
       "<Figure size 432x288 with 1 Axes>"
      ]
     },
     "metadata": {
      "needs_background": "light"
     },
     "output_type": "display_data"
    }
   ],
   "source": [
    "import matplotlib.pyplot as plt\n",
    "\n",
    "plt.plot(cluster_range, error_list, marker = \"o\", color = \"g\", markersize = 10)\n",
    "plt.xlabel(\"Cluster Range\")\n",
    "plt.ylabel(\"IntraCluster Sum\")\n",
    "plt.title(\"KMeans\")\n",
    "plt.show()\n"
   ]
  },
  {
   "cell_type": "code",
   "execution_count": null,
   "id": "bf65e00f",
   "metadata": {},
   "outputs": [],
   "source": []
  }
 ],
 "metadata": {
  "kernelspec": {
   "display_name": "Python 3",
   "language": "python",
   "name": "python3"
  },
  "language_info": {
   "codemirror_mode": {
    "name": "ipython",
    "version": 3
   },
   "file_extension": ".py",
   "mimetype": "text/x-python",
   "name": "python",
   "nbconvert_exporter": "python",
   "pygments_lexer": "ipython3",
   "version": "3.8.8"
  }
 },
 "nbformat": 4,
 "nbformat_minor": 5
}
